{
 "cells": [
  {
   "cell_type": "code",
   "execution_count": 1,
   "id": "33ac041d",
   "metadata": {},
   "outputs": [],
   "source": [
    "import pandas as pd\n",
    "import numpy as np\n",
    "pd.set_option('display.max_rows', 500)\n",
    "pd.set_option('display.max_columns', 500)\n",
    "pd.set_option('display.width', 1000)"
   ]
  },
  {
   "cell_type": "code",
   "execution_count": 2,
   "id": "91d4a149",
   "metadata": {},
   "outputs": [],
   "source": [
    "url1 = r'C:\\Users\\ignacio.gutierrez\\Cementos BSA\\HBSA - Información Planificación Comercial\\55. Data Analytics\\1- Estrategia de Precios HPM\\Servicios Complementarios\\archivos_codigos\\Bases BSA 21 y 22.xlsx'\n",
    "url2 = r'C:\\Users\\ignacio.gutierrez\\Cementos BSA\\HBSA - Información Planificación Comercial\\55. Data Analytics\\1- Estrategia de Precios HPM\\Servicios Complementarios\\archivos_codigos\\Bases polpaico 2021 y 2022.xlsx'\n",
    "url3 = r'C:\\Users\\ignacio.gutierrez\\Cementos BSA\\HBSA - Información Planificación Comercial\\55. Data Analytics\\1- Estrategia de Precios HPM\\Servicios Complementarios\\archivos_codigos\\Homologación y sus precios_v3.xlsx'\n",
    "\n",
    "bsa_2021 = pd.read_excel(url1,sheet_name=\"BASE 2021 - SERVICIOS\")\n",
    "bsa_2022 = pd.read_excel(url1,sheet_name=\"BASE 2022 - SERVICIOS\")\n",
    "polp = pd.read_excel(url2,sheet_name=\"Bases polpaico 21 - 22, simplif\")\n",
    "homol = pd.read_excel(url3,sheet_name=\"Resumen Homologación\")"
   ]
  },
  {
   "cell_type": "code",
   "execution_count": 8,
   "id": "3ca6b958",
   "metadata": {},
   "outputs": [],
   "source": [
    "eliminar = [\"CEPOTIP1\",\n",
    "\"CEPREMIUMSC25\",\n",
    "\"CEPREMIUM\",\n",
    "\"CEPOYURA\",\n",
    "\"ATENCION COMERCIAL\",\n",
    "\"INTPRORROG\",\n",
    "\"ACUERDO GERENTE\",\n",
    "\"DIFERENCIA UF\",\n",
    "\"CENOESTR\",\n",
    "\"BOLON\",\n",
    "\"TUBEROADNO\",\n",
    "\"GRAVILLA 20 MM\",\n",
    "\"G2OI\",\n",
    "\"DIFPRECHG\",\n",
    "\"MAXI SACO BOLON 2-4\",\n",
    "\"TUBERADESP\",\n",
    "\"SH30.0(90)10/14\",\n",
    "\"G13I\",\n",
    "\"ARMATUBPUL\",\n",
    "\"CHARLAAM\",\n",
    "\"GB40.0(90)20/10\",\n",
    "\"HS04.0(00)40/06\",\n",
    "\"GN25.0(90)20/06\"]"
   ]
  },
  {
   "cell_type": "code",
   "execution_count": null,
   "id": "b85a0554",
   "metadata": {},
   "outputs": [],
   "source": [
    "#esto es una prueba "
   ]
  },
  {
   "cell_type": "code",
   "execution_count": 4,
   "id": "92b7d24a",
   "metadata": {},
   "outputs": [],
   "source": [
    "bsa_total = pd.concat([bsa_2021,bsa_2022])"
   ]
  },
  {
   "cell_type": "code",
   "execution_count": 11,
   "id": "0668b024",
   "metadata": {},
   "outputs": [
    {
     "ename": "ValueError",
     "evalue": "Cannot specify both 'labels' and 'index'/'columns'",
     "output_type": "error",
     "traceback": [
      "\u001b[1;31m---------------------------------------------------------------------------\u001b[0m",
      "\u001b[1;31mValueError\u001b[0m                                Traceback (most recent call last)",
      "\u001b[1;32m~\\AppData\\Local\\Temp\\ipykernel_6240\\2689105387.py\u001b[0m in \u001b[0;36m<module>\u001b[1;34m\u001b[0m\n\u001b[1;32m----> 1\u001b[1;33m \u001b[0mbsa_data_limpia\u001b[0m \u001b[1;33m=\u001b[0m \u001b[0mbsa_total\u001b[0m\u001b[1;33m.\u001b[0m\u001b[0mdrop\u001b[0m\u001b[1;33m(\u001b[0m\u001b[0mlabels\u001b[0m\u001b[1;33m=\u001b[0m\u001b[0meliminar\u001b[0m\u001b[1;33m,\u001b[0m\u001b[0mindex\u001b[0m \u001b[1;33m=\u001b[0m\u001b[1;34m\"Producto\"\u001b[0m\u001b[1;33m)\u001b[0m\u001b[1;33m\u001b[0m\u001b[1;33m\u001b[0m\u001b[0m\n\u001b[0m",
      "\u001b[1;32m~\\Anaconda3\\lib\\site-packages\\pandas\\util\\_decorators.py\u001b[0m in \u001b[0;36mwrapper\u001b[1;34m(*args, **kwargs)\u001b[0m\n\u001b[0;32m    309\u001b[0m                     \u001b[0mstacklevel\u001b[0m\u001b[1;33m=\u001b[0m\u001b[0mstacklevel\u001b[0m\u001b[1;33m,\u001b[0m\u001b[1;33m\u001b[0m\u001b[1;33m\u001b[0m\u001b[0m\n\u001b[0;32m    310\u001b[0m                 )\n\u001b[1;32m--> 311\u001b[1;33m             \u001b[1;32mreturn\u001b[0m \u001b[0mfunc\u001b[0m\u001b[1;33m(\u001b[0m\u001b[1;33m*\u001b[0m\u001b[0margs\u001b[0m\u001b[1;33m,\u001b[0m \u001b[1;33m**\u001b[0m\u001b[0mkwargs\u001b[0m\u001b[1;33m)\u001b[0m\u001b[1;33m\u001b[0m\u001b[1;33m\u001b[0m\u001b[0m\n\u001b[0m\u001b[0;32m    312\u001b[0m \u001b[1;33m\u001b[0m\u001b[0m\n\u001b[0;32m    313\u001b[0m         \u001b[1;32mreturn\u001b[0m \u001b[0mwrapper\u001b[0m\u001b[1;33m\u001b[0m\u001b[1;33m\u001b[0m\u001b[0m\n",
      "\u001b[1;32m~\\Anaconda3\\lib\\site-packages\\pandas\\core\\frame.py\u001b[0m in \u001b[0;36mdrop\u001b[1;34m(self, labels, axis, index, columns, level, inplace, errors)\u001b[0m\n\u001b[0;32m   4955\u001b[0m                 \u001b[0mweight\u001b[0m  \u001b[1;36m1.0\u001b[0m     \u001b[1;36m0.8\u001b[0m\u001b[1;33m\u001b[0m\u001b[1;33m\u001b[0m\u001b[0m\n\u001b[0;32m   4956\u001b[0m         \"\"\"\n\u001b[1;32m-> 4957\u001b[1;33m         return super().drop(\n\u001b[0m\u001b[0;32m   4958\u001b[0m             \u001b[0mlabels\u001b[0m\u001b[1;33m=\u001b[0m\u001b[0mlabels\u001b[0m\u001b[1;33m,\u001b[0m\u001b[1;33m\u001b[0m\u001b[1;33m\u001b[0m\u001b[0m\n\u001b[0;32m   4959\u001b[0m             \u001b[0maxis\u001b[0m\u001b[1;33m=\u001b[0m\u001b[0maxis\u001b[0m\u001b[1;33m,\u001b[0m\u001b[1;33m\u001b[0m\u001b[1;33m\u001b[0m\u001b[0m\n",
      "\u001b[1;32m~\\Anaconda3\\lib\\site-packages\\pandas\\core\\generic.py\u001b[0m in \u001b[0;36mdrop\u001b[1;34m(self, labels, axis, index, columns, level, inplace, errors)\u001b[0m\n\u001b[0;32m   4251\u001b[0m         \u001b[1;32mif\u001b[0m \u001b[0mlabels\u001b[0m \u001b[1;32mis\u001b[0m \u001b[1;32mnot\u001b[0m \u001b[1;32mNone\u001b[0m\u001b[1;33m:\u001b[0m\u001b[1;33m\u001b[0m\u001b[1;33m\u001b[0m\u001b[0m\n\u001b[0;32m   4252\u001b[0m             \u001b[1;32mif\u001b[0m \u001b[0mindex\u001b[0m \u001b[1;32mis\u001b[0m \u001b[1;32mnot\u001b[0m \u001b[1;32mNone\u001b[0m \u001b[1;32mor\u001b[0m \u001b[0mcolumns\u001b[0m \u001b[1;32mis\u001b[0m \u001b[1;32mnot\u001b[0m \u001b[1;32mNone\u001b[0m\u001b[1;33m:\u001b[0m\u001b[1;33m\u001b[0m\u001b[1;33m\u001b[0m\u001b[0m\n\u001b[1;32m-> 4253\u001b[1;33m                 \u001b[1;32mraise\u001b[0m \u001b[0mValueError\u001b[0m\u001b[1;33m(\u001b[0m\u001b[1;34m\"Cannot specify both 'labels' and 'index'/'columns'\"\u001b[0m\u001b[1;33m)\u001b[0m\u001b[1;33m\u001b[0m\u001b[1;33m\u001b[0m\u001b[0m\n\u001b[0m\u001b[0;32m   4254\u001b[0m             \u001b[0maxis_name\u001b[0m \u001b[1;33m=\u001b[0m \u001b[0mself\u001b[0m\u001b[1;33m.\u001b[0m\u001b[0m_get_axis_name\u001b[0m\u001b[1;33m(\u001b[0m\u001b[0maxis\u001b[0m\u001b[1;33m)\u001b[0m\u001b[1;33m\u001b[0m\u001b[1;33m\u001b[0m\u001b[0m\n\u001b[0;32m   4255\u001b[0m             \u001b[0maxes\u001b[0m \u001b[1;33m=\u001b[0m \u001b[1;33m{\u001b[0m\u001b[0maxis_name\u001b[0m\u001b[1;33m:\u001b[0m \u001b[0mlabels\u001b[0m\u001b[1;33m}\u001b[0m\u001b[1;33m\u001b[0m\u001b[1;33m\u001b[0m\u001b[0m\n",
      "\u001b[1;31mValueError\u001b[0m: Cannot specify both 'labels' and 'index'/'columns'"
     ]
    }
   ],
   "source": [
    "bsa_data_limpia = bsa_total.drop(labels=eliminar,index =\"Producto\")"
   ]
  },
  {
   "cell_type": "code",
   "execution_count": null,
   "id": "333b1cfb",
   "metadata": {},
   "outputs": [],
   "source": []
  },
  {
   "cell_type": "code",
   "execution_count": null,
   "id": "3157421c",
   "metadata": {},
   "outputs": [],
   "source": []
  },
  {
   "cell_type": "code",
   "execution_count": 5,
   "id": "0a084ca7",
   "metadata": {},
   "outputs": [],
   "source": [
    "homol[\"ID Servicio Polpaico\"] = homol[\"ID Servicio Polpaico\"].fillna(\"0\").astype(\"int64\")\n",
    "homol[\"ID Servicio BSA\"] = homol[\"ID Servicio BSA\"].astype(str).apply(lambda x:x.strip())\n",
    "bsa_total[\"Producto\"] = bsa_total[\"Producto\"].astype(str).apply(lambda x:x.strip())"
   ]
  },
  {
   "cell_type": "code",
   "execution_count": 6,
   "id": "39b2e139",
   "metadata": {},
   "outputs": [],
   "source": [
    "homologar_bsa_dict = dict(zip(homol[\"ID Servicio BSA\"],homol[\"Homologación\"]))\n",
    "homologar_bsa_familia_dict = dict(zip(homol[\"Homologación\"],homol[\"Grupo Servicio\"]))\n",
    "homologar_bsa_familia_dict[np.nan]=np.nan"
   ]
  },
  {
   "cell_type": "code",
   "execution_count": null,
   "id": "1a1d702a",
   "metadata": {},
   "outputs": [],
   "source": [
    "homologar_bsa_dict"
   ]
  },
  {
   "cell_type": "code",
   "execution_count": null,
   "id": "10098cea",
   "metadata": {},
   "outputs": [],
   "source": [
    "bsa_total[\"homologado\"] = bsa_total[\"Producto\"].map(homologar_bsa_dict)\n",
    "bsa_total[\"familia\"] = bsa_total[\"homologado\"].map(homologar_bsa_familia_dict)"
   ]
  },
  {
   "cell_type": "code",
   "execution_count": null,
   "id": "c797cb6c",
   "metadata": {},
   "outputs": [],
   "source": [
    "bsa_total[\"familia\"].value_counts(dropna=False)"
   ]
  },
  {
   "cell_type": "code",
   "execution_count": null,
   "id": "9708a5ee",
   "metadata": {},
   "outputs": [],
   "source": [
    "#Esto lo esta revisando JP\n",
    "bsa_total[bsa_total[\"homologado\"].isna()][\"Producto\"].to_excel(r'C:\\Users\\gonzalo.vera\\OneDrive - Cementos BSA\\Documentos\\homologacion_precios\\Agnos_anteriores\\codigo_a_revisar.xlsx')"
   ]
  },
  {
   "cell_type": "code",
   "execution_count": null,
   "id": "060698f6",
   "metadata": {},
   "outputs": [],
   "source": [
    "bsa_total[\"Neto UF\"] = bsa_total[\"Neto UF\"].astype(\"int64\")"
   ]
  },
  {
   "cell_type": "markdown",
   "id": "9275b6ed",
   "metadata": {},
   "source": [
    "## Revisar Adicionales Bombeo vs Servicio Bombeo porque está raro"
   ]
  },
  {
   "cell_type": "code",
   "execution_count": null,
   "id": "54be942e",
   "metadata": {},
   "outputs": [],
   "source": [
    "bsa_total_agrup = bsa_total.groupby(by=\"familia\",dropna=False).sum(\"Neto UF\")\n",
    "#bsa_total_agrup[\"Neto UF\"].sort_values(ascending=False).to_excel(r\"C:\\Users\\gonzalo.vera\\OneDrive - Cementos BSA\\Documentos\\homologacion_precios\\Agnos_anteriores\\para_homol.xlsx\")\n",
    "bsa_total_agrup[\"Neto UF\"].sort_values(ascending=False)\n"
   ]
  },
  {
   "cell_type": "code",
   "execution_count": null,
   "id": "36c8ef6e",
   "metadata": {},
   "outputs": [],
   "source": [
    "bsa_total[bsa_total[\"familia\"]==\"Adicionales Bombeo\"][\"Producto\"].value_counts()"
   ]
  },
  {
   "cell_type": "code",
   "execution_count": null,
   "id": "48ae4cc3",
   "metadata": {},
   "outputs": [],
   "source": [
    "(bsa_total[bsa_total[\"Producto\"]==\"CEPREMIUM\"])"
   ]
  },
  {
   "cell_type": "code",
   "execution_count": null,
   "id": "de96eaf5",
   "metadata": {},
   "outputs": [],
   "source": []
  },
  {
   "cell_type": "markdown",
   "id": "28361269",
   "metadata": {},
   "source": [
    "# Proceso Polpaico 21/22"
   ]
  },
  {
   "cell_type": "code",
   "execution_count": null,
   "id": "0ded5a05",
   "metadata": {},
   "outputs": [],
   "source": [
    "homologar_polp_dict = dict(zip(homol[\"ID Servicio Polpaico\"],homol[\"Homologación\"]))\n",
    "homologar_polp_familias_dict = dict(zip(homol[\"Homologación\"],homol[\"Grupo Servicio\"]))\n",
    "polp[\"homologado\"] = polp[\"ID Material\"].map(homologar_polp_dict)\n",
    "polp[\"familia\"] = polp[\"homologado\"].map(homologar_polp_familias_dict)\n",
    "homol.loc[54,[\"Grupo Servicio\"]]=\"faenas nocturnas\""
   ]
  },
  {
   "cell_type": "code",
   "execution_count": null,
   "id": "98c5eb29",
   "metadata": {},
   "outputs": [],
   "source": [
    "polp[polp[\"familia\"].isna()][[\"ID Material\",\"Material\"]].value_counts()"
   ]
  },
  {
   "cell_type": "code",
   "execution_count": null,
   "id": "a10b6582",
   "metadata": {},
   "outputs": [],
   "source": [
    "polp_agrupado = polp.groupby(by=\"familia\",dropna=False).sum(\"valor Ingreso UF\")\n",
    "polp_agrupado[\"valor Ingreso UF\"].sort_values(ascending=False)"
   ]
  },
  {
   "cell_type": "code",
   "execution_count": null,
   "id": "148be995",
   "metadata": {},
   "outputs": [],
   "source": [
    "#bsa_total.to_excel( r'C:\\Users\\gonzalo.vera\\OneDrive - Cementos BSA\\Documentos\\homologacion_precios\\Agnos_anteriores\\bsa_total.xlsx')"
   ]
  },
  {
   "cell_type": "code",
   "execution_count": null,
   "id": "cf247ab0",
   "metadata": {},
   "outputs": [],
   "source": [
    "bsa_total.shape"
   ]
  },
  {
   "cell_type": "code",
   "execution_count": null,
   "id": "0096b139",
   "metadata": {},
   "outputs": [],
   "source": [
    "bsa_total_region = bsa_total.groupby(by=\"Región\",dropna=False).sum(\"Neto UF\")\n",
    "bsa_total_region[\"Neto UF\"]"
   ]
  },
  {
   "cell_type": "code",
   "execution_count": null,
   "id": "8881eab3",
   "metadata": {},
   "outputs": [],
   "source": [
    "bsa_total[bsa_total[\"Región\"]==\"I\"].sort_values(\"Neto UF\",ascending=True)"
   ]
  },
  {
   "cell_type": "code",
   "execution_count": null,
   "id": "e1610daf",
   "metadata": {},
   "outputs": [],
   "source": []
  }
 ],
 "metadata": {
  "kernelspec": {
   "display_name": "Python 3 (ipykernel)",
   "language": "python",
   "name": "python3"
  },
  "language_info": {
   "codemirror_mode": {
    "name": "ipython",
    "version": 3
   },
   "file_extension": ".py",
   "mimetype": "text/x-python",
   "name": "python",
   "nbconvert_exporter": "python",
   "pygments_lexer": "ipython3",
   "version": "3.9.13"
  }
 },
 "nbformat": 4,
 "nbformat_minor": 5
}
